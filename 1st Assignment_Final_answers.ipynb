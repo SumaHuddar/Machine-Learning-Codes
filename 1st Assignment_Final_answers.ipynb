{
 "cells": [
  {
   "cell_type": "markdown",
   "metadata": {},
   "source": [
    "# 1. Write a function that inputs a number and prints the multiplication table of that number"
   ]
  },
  {
   "cell_type": "code",
   "execution_count": 1,
   "metadata": {},
   "outputs": [
    {
     "name": "stdout",
     "output_type": "stream",
     "text": [
      "enter the number: 4\n",
      "4*1=4\n",
      "4*2=8\n",
      "4*3=12\n",
      "4*4=16\n",
      "4*5=20\n",
      "4*6=24\n",
      "4*7=28\n",
      "4*8=32\n",
      "4*9=36\n",
      "4*10=40\n"
     ]
    }
   ],
   "source": [
    "# 1. Code of A function that inputs a number and prints the multiplication table of that number\n",
    "def multiplier():\n",
    "    \n",
    "    '''This function prints the multiplication table of a number'''\n",
    "    \n",
    "    n=int(input(\"enter the number: \"))\n",
    "    \n",
    "    for i in range(1,11):\n",
    "        c=n*i\n",
    "        print(\"{}*{}={}\".format(n,i,c))\n",
    "multiplier()"
   ]
  },
  {
   "cell_type": "markdown",
   "metadata": {},
   "source": [
    "# 2. Write a program to print twin primes less than 1000. If two consecutive odd numbers are both prime then they are known as twin primes"
   ]
  },
  {
   "cell_type": "code",
   "execution_count": 2,
   "metadata": {},
   "outputs": [
    {
     "name": "stdout",
     "output_type": "stream",
     "text": [
      "\n",
      " ***twin primes are:\n",
      "3 5\n",
      "5 7\n",
      "11 13\n",
      "17 19\n",
      "29 31\n",
      "41 43\n",
      "59 61\n",
      "71 73\n",
      "101 103\n",
      "107 109\n",
      "137 139\n",
      "149 151\n",
      "179 181\n",
      "191 193\n",
      "197 199\n",
      "227 229\n",
      "239 241\n",
      "269 271\n",
      "281 283\n",
      "311 313\n",
      "347 349\n",
      "419 421\n",
      "431 433\n",
      "461 463\n",
      "521 523\n",
      "569 571\n",
      "599 601\n",
      "617 619\n",
      "641 643\n",
      "659 661\n",
      "809 811\n",
      "821 823\n",
      "827 829\n",
      "857 859\n",
      "881 883\n"
     ]
    }
   ],
   "source": [
    "2.# a program to print twin primes less than 1000. If two consecutive odd numbers are\n",
    "#both prime then they are known as twin primes\n",
    "a=1\n",
    "b=1000\n",
    "lst=[]\n",
    "for no in range(a,b):\n",
    "    if no>1:\n",
    "        isdivisible=False\n",
    "        for i in range(2,no):\n",
    "            if no % i==0:\n",
    "                isdivisible=True\n",
    "        if not isdivisible:\n",
    "            lst.append(no)\n",
    "#print(\"Total prime numbers less than 1000 are:\\n\",lst)\n",
    "print('\\n ***twin primes are:')\n",
    "for i in range(0,len(lst)-1):\n",
    "    if lst[i+1] - lst[i]==2:\n",
    "        print(lst[i],lst[i+1])"
   ]
  },
  {
   "cell_type": "markdown",
   "metadata": {},
   "source": [
    "# 3. A program to find out the prime factors of a number. Example: prime factors of 56 -2, 2, 2, 7"
   ]
  },
  {
   "cell_type": "code",
   "execution_count": 3,
   "metadata": {},
   "outputs": [
    {
     "name": "stdout",
     "output_type": "stream",
     "text": [
      "enter a number: 56\n",
      "prime factors of 56 are: [2, 2, 2, 7]\n"
     ]
    }
   ],
   "source": [
    "# 2.Write a program to find out the prime factors of a number. Example: prime factors of 56 -2, 2, 2, 7\n",
    "\n",
    "num=int(input('enter a number: '))\n",
    "number=num\n",
    "lst=[]\n",
    "a=2\n",
    "while number>1:\n",
    "    if number%a==0:\n",
    "        lst.append(a)\n",
    "        number=number/a\n",
    "    else:\n",
    "        a+=1\n",
    "\n",
    "print('prime factors of', num, 'are:',lst)\n",
    "    "
   ]
  },
  {
   "cell_type": "markdown",
   "metadata": {},
   "source": [
    "# 4. Write a program to implement these formulae of permutations and combinations. Number of permutations of n objects taken r at a time: p(n, r) = n! / (n-r)!. Number of combinations of n objects taken r at a time is: c(n, r) = n! / (r!*(n-r)!) = p(n,r) / r!"
   ]
  },
  {
   "cell_type": "code",
   "execution_count": 4,
   "metadata": {},
   "outputs": [
    {
     "name": "stdout",
     "output_type": "stream",
     "text": [
      "npr value is: 12.0\n",
      "\n",
      "ncr value is: 6.0\n"
     ]
    }
   ],
   "source": [
    "#4. Write a program to implement these formulae of permutations and combinations.\n",
    "# Number of permutations of n objects taken r at a time: p(n, r) = n! / (n-r)!. Number of\n",
    "# combinations of n objects taken r at a time is: c(n, r) = n! / (r!*(n-r)!) = p(n,r) / r!\n",
    "\n",
    "def facto(n):\n",
    "    fact_value=1\n",
    "    \n",
    "    for ele in range(1,n+1):\n",
    "        fact_value=ele*fact_value\n",
    "    return fact_value\n",
    "\n",
    "def permtn(n,r):\n",
    "    npr=facto(n)/facto(n-r)  #p(n,r)=n!/(n-r)!\n",
    "    print('npr value is:',npr)\n",
    "    \n",
    "\n",
    "def combn(n,r):\n",
    "    ncr=facto(n)/(facto(r)*facto(n-r))   #c(n,r)=n!/(r!*(n-r)!)\n",
    "    print('\\nncr value is:',ncr)\n",
    "    \n",
    "permtn(4,2)\n",
    "combn(4,2)\n"
   ]
  },
  {
   "cell_type": "markdown",
   "metadata": {},
   "source": [
    "# 5. Write a function that converts a decimal number to binary number"
   ]
  },
  {
   "cell_type": "code",
   "execution_count": 5,
   "metadata": {},
   "outputs": [
    {
     "name": "stdout",
     "output_type": "stream",
     "text": [
      "[1, 0, 0, 0, 0, 0]\n"
     ]
    }
   ],
   "source": [
    "# 5. Write a function that converts a decimal number to binary number\n",
    "\n",
    "def dec_bin(n):\n",
    "    bin_no=[]\n",
    "    k=0\n",
    "    while n>0:\n",
    "        no=n%2\n",
    "        bin_no.append(no)\n",
    "        #print (bin_no)\n",
    "        n=int(n/2)\n",
    "        #print(n)\n",
    "        k+=1\n",
    "        #print(k)\n",
    "        \n",
    "    #print(bin_no)\n",
    "    print(list(reversed(bin_no)))\n",
    "    \n",
    "dec_bin(32)"
   ]
  },
  {
   "cell_type": "markdown",
   "metadata": {},
   "source": [
    "# 6. Write a function cubesum() that accepts an integer and returns the sum of the cubes of individual digits of that number. Use this function to make functions PrintArmstrong() and isArmstrong() to print Armstrong numbers and to find whether is an Armstrong number."
   ]
  },
  {
   "cell_type": "code",
   "execution_count": 6,
   "metadata": {},
   "outputs": [
    {
     "name": "stdout",
     "output_type": "stream",
     "text": [
      "300 is not an Armstrong number\n",
      "370 is an Armstrong number\n"
     ]
    }
   ],
   "source": [
    "def cubesum(n):\n",
    "        sum=0\n",
    "        num=n\n",
    "        while num>0:\n",
    "            num1=num%10\n",
    "            num2=num1**3\n",
    "            sum=sum+num2\n",
    "            num=num//10\n",
    "        return sum\n",
    "    \n",
    "def PrintArmstrong(n):\n",
    "    totalsum=cubesum(n)\n",
    "    if n==totalsum:\n",
    "        return n\n",
    "\n",
    "def isArmstrong(n):\n",
    "    if n==PrintArmstrong(n):\n",
    "        print(n, 'is an Armstrong number')\n",
    "    else:\n",
    "        print(n, 'is not an Armstrong number')\n",
    "        \n",
    "isArmstrong(300)\n",
    "isArmstrong(370)"
   ]
  },
  {
   "cell_type": "markdown",
   "metadata": {},
   "source": [
    "# 7. Write a function prodDigits() that inputs a number and returns the product of digits of that number"
   ]
  },
  {
   "cell_type": "code",
   "execution_count": 7,
   "metadata": {},
   "outputs": [
    {
     "data": {
      "text/plain": [
       "48"
      ]
     },
     "execution_count": 7,
     "metadata": {},
     "output_type": "execute_result"
    }
   ],
   "source": [
    "7. #Write a function prodDigits() that inputs a number and returns the product of digits of that number\n",
    "\n",
    "def prodDigits(n):\n",
    "    \n",
    "    num=n\n",
    "    prod=1\n",
    "    while num>=1:\n",
    "        d=num%10\n",
    "        prod*=d\n",
    "        num=num//10\n",
    "    return prod\n",
    "    \n",
    "    \n",
    "prodDigits(86)"
   ]
  },
  {
   "cell_type": "markdown",
   "metadata": {},
   "source": [
    "#  8. If all digits of a number n are multiplied by each other repeating with the product, the one digit number obtained at last is called the multiplicative digital root of n. The number of times digits need to be multiplied to reach one digit is called the multiplicative persistance of n.\n",
    "\n",
    "Example: 86 -> 48 -> 32 -> 6 (MDR 6, MPersistence 3)\n",
    "341 -> 12->2 (MDR 2, MPersistence 2)\n",
    "\n",
    "# Using the function prodDigits() of previous exercise write functions MDR() and MPersistence() that input a number and return its multiplicative digital root and multiplicative persistence respectively"
   ]
  },
  {
   "cell_type": "code",
   "execution_count": 8,
   "metadata": {},
   "outputs": [
    {
     "name": "stdout",
     "output_type": "stream",
     "text": [
      "MDR is: 6\n",
      "MPersistence is:  3\n"
     ]
    }
   ],
   "source": [
    "def MDR(n):\n",
    "    l=len(str(n))\n",
    "    MDR1=n\n",
    "    while l>1:\n",
    "        if MDR1>0:\n",
    "            MDR1=prodDigits(MDR1)\n",
    "        l=len(str(MDR1))\n",
    "    print ('MDR is:', MDR1)\n",
    "\n",
    "MDR(86)\n",
    "\n",
    "\n",
    "def MPersistence(n):\n",
    "    count=0\n",
    "    l=len(str(n))\n",
    "    MDR1=n\n",
    "    count=0\n",
    "    while l>1:\n",
    "        if MDR1>0:\n",
    "            MDR1=prodDigits(MDR1)\n",
    "            count+=1\n",
    "        l=len(str(MDR1))\n",
    "    print('MPersistence is: ', count)\n",
    "    \n",
    "MPersistence(86)"
   ]
  },
  {
   "cell_type": "markdown",
   "metadata": {},
   "source": [
    "# 9. Write a function sumPdivisors() that finds the sum of proper divisors of a number. Proper divisors of a number are those numbers by which the number is divisible, except the number itself. "
   ]
  },
  {
   "cell_type": "code",
   "execution_count": 12,
   "metadata": {},
   "outputs": [
    {
     "name": "stdout",
     "output_type": "stream",
     "text": [
      "Sum of proper divisors of 25 is : 6\n"
     ]
    }
   ],
   "source": [
    "def sumPdivisors(n):\n",
    "    sum=0\n",
    "    i=1\n",
    "    #print('proper divisors are: ')\n",
    "    while i<n:\n",
    "        if n%i==0:\n",
    "            #print(i)\n",
    "            sum=sum+i\n",
    "        i+=1\n",
    "    print('Sum of proper divisors of {} is : {}'.format(n,sum))\n",
    "    \n",
    "sumPdivisors(25)"
   ]
  },
  {
   "cell_type": "markdown",
   "metadata": {},
   "source": [
    "# 10. A number is called perfect if the sum of proper divisors of that number is equal to the number. For example 28 is perfect number, since 1+2+4+7+14=28. Write a program to print all the perfect numbers in a given range"
   ]
  },
  {
   "cell_type": "code",
   "execution_count": 13,
   "metadata": {},
   "outputs": [
    {
     "name": "stdout",
     "output_type": "stream",
     "text": [
      "enter the number: 0\n",
      "enter a number greater than a : 30\n",
      "6\n",
      "24\n",
      "28\n"
     ]
    }
   ],
   "source": [
    "a=int(input('enter the number: '))\n",
    "b=int(input('enter a number greater than a : '))\n",
    "\n",
    "for i in range (a,b):\n",
    "    sum_div=0\n",
    "    for j in range(1,i):\n",
    "        if i%j==0:\n",
    "            sum_div+=j\n",
    "            if sum_div==i:\n",
    "                print(i)\n",
    "    "
   ]
  },
  {
   "cell_type": "markdown",
   "metadata": {},
   "source": [
    "# 11. Two different numbers are called amicable numbers if the sum of the proper divisors of each is equal to the other number. For example 220 and 284 are amicable numbers. \n",
    "\n",
    "Sum of proper divisors of 220 = 1+2+4+5+10+11+20+22+44+55+110 = 284 \n",
    "Sum of proper divisors of 284 = 1+2+4+71+142 = 220\n",
    "\n",
    "# Write a function to print pairs of amicable numbers in a range"
   ]
  },
  {
   "cell_type": "code",
   "execution_count": 14,
   "metadata": {},
   "outputs": [
    {
     "data": {
      "text/plain": [
       "True"
      ]
     },
     "execution_count": 14,
     "metadata": {},
     "output_type": "execute_result"
    }
   ],
   "source": [
    "def sumPdivisors(n):\n",
    "    sum=0\n",
    "    i=1\n",
    "    #print('proper divisors are: ')\n",
    "    while i<n:\n",
    "        if n%i==0:\n",
    "            #print(i)\n",
    "            sum=sum+i\n",
    "        i+=1\n",
    "    return sum\n",
    "\n",
    "def amicable(a,b):\n",
    "    s1=sumPdivisors(a)\n",
    "    s2=sumPdivisors(b)\n",
    "    \n",
    "    if s1==b and s2==a:\n",
    "        return True\n",
    "    else:\n",
    "        return False\n",
    "        \n",
    "def amicablepair(p,q):\n",
    "    pairs=0\n",
    "    if i in range(p,q):\n",
    "        for j in range(i+1,q):\n",
    "            if amicable(i,j):\n",
    "                print(i,j)\n",
    "                pairs=pairs+1\n",
    "    print('total amicable pairs:',pairs)\n",
    "        \n",
    "amicable(220,284)\n",
    "#amicablepair(100,300)\n"
   ]
  },
  {
   "cell_type": "markdown",
   "metadata": {},
   "source": [
    "# 12. Write a program which can filter odd numbers in a list by using filter function"
   ]
  },
  {
   "cell_type": "code",
   "execution_count": 15,
   "metadata": {},
   "outputs": [
    {
     "name": "stdout",
     "output_type": "stream",
     "text": [
      "[1, 3, 5, 7]\n"
     ]
    }
   ],
   "source": [
    "list1=[1,2,3,4,5,6,7,8]\n",
    "\n",
    "odd_num=filter(lambda x: x%2!=0, list1)\n",
    "print(list(odd_num))"
   ]
  },
  {
   "cell_type": "markdown",
   "metadata": {},
   "source": [
    "# 13. Write a program which can map() to make a list whose elements are cube of elements in a given list"
   ]
  },
  {
   "cell_type": "code",
   "execution_count": 16,
   "metadata": {},
   "outputs": [
    {
     "name": "stdout",
     "output_type": "stream",
     "text": [
      "[1, 8, 27, 64, 125, 216, 343, 512, 729, 1000]\n"
     ]
    }
   ],
   "source": [
    "list2=[1,2,3,4,5,6,7,8,9,10]\n",
    "\n",
    "cube_ele=map(lambda x: x**3, list2)\n",
    "print(list(cube_ele))"
   ]
  },
  {
   "cell_type": "markdown",
   "metadata": {},
   "source": [
    "# 14. Write a program which can map() and filter() to make a list whose elements are cube of even number in a given list"
   ]
  },
  {
   "cell_type": "code",
   "execution_count": 17,
   "metadata": {},
   "outputs": [
    {
     "name": "stdout",
     "output_type": "stream",
     "text": [
      "[8, 64, 216]\n"
     ]
    }
   ],
   "source": [
    "list3=[1,2,3,4,5,6]\n",
    "\n",
    "even=filter(lambda a:a%2==0,list3)\n",
    "    \n",
    "cube_even=map(lambda a:a**3, even)\n",
    "print(list(cube_even))"
   ]
  },
  {
   "cell_type": "markdown",
   "metadata": {},
   "source": []
  }
 ],
 "metadata": {
  "kernelspec": {
   "display_name": "Python 3",
   "language": "python",
   "name": "python3"
  },
  "language_info": {
   "codemirror_mode": {
    "name": "ipython",
    "version": 3
   },
   "file_extension": ".py",
   "mimetype": "text/x-python",
   "name": "python",
   "nbconvert_exporter": "python",
   "pygments_lexer": "ipython3",
   "version": "3.7.1"
  }
 },
 "nbformat": 4,
 "nbformat_minor": 2
}
