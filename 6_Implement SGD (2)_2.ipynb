{
 "cells": [
  {
   "cell_type": "markdown",
   "metadata": {},
   "source": [
    "# Linear Regression using Sklearn SGD and Self Implemented SGD\n"
   ]
  },
  {
   "cell_type": "code",
   "execution_count": 1,
   "metadata": {
    "colab": {},
    "colab_type": "code",
    "id": "REYPoTJ1Af7u"
   },
   "outputs": [],
   "source": [
    "import warnings\n",
    "warnings.filterwarnings(\"ignore\")\n",
    "from sklearn.datasets import load_boston\n",
    "from random import seed\n",
    "from random import randrange\n",
    "from csv import reader\n",
    "from math import sqrt\n",
    "from sklearn import preprocessing\n",
    "import pandas as pd\n",
    "import numpy as np\n",
    "import matplotlib.pyplot as plt\n",
    "from prettytable import PrettyTable\n",
    "from sklearn.linear_model import SGDRegressor\n",
    "from sklearn import preprocessing\n",
    "from sklearn.metrics import mean_squared_error"
   ]
  },
  {
   "cell_type": "code",
   "execution_count": 2,
   "metadata": {},
   "outputs": [],
   "source": [
    "from sklearn.datasets import load_boston"
   ]
  },
  {
   "cell_type": "code",
   "execution_count": 3,
   "metadata": {},
   "outputs": [],
   "source": [
    "boston=load_boston()"
   ]
  },
  {
   "cell_type": "code",
   "execution_count": 4,
   "metadata": {
    "colab": {},
    "colab_type": "code",
    "id": "NTQ2iH-kAwbo"
   },
   "outputs": [
    {
     "data": {
      "text/plain": [
       "(506, 13)"
      ]
     },
     "execution_count": 4,
     "metadata": {},
     "output_type": "execute_result"
    }
   ],
   "source": [
    "boston.data.shape"
   ]
  },
  {
   "cell_type": "code",
   "execution_count": 5,
   "metadata": {},
   "outputs": [
    {
     "data": {
      "text/plain": [
       "array(['CRIM', 'ZN', 'INDUS', 'CHAS', 'NOX', 'RM', 'AGE', 'DIS', 'RAD',\n",
       "       'TAX', 'PTRATIO', 'B', 'LSTAT'], dtype='<U7')"
      ]
     },
     "execution_count": 5,
     "metadata": {},
     "output_type": "execute_result"
    }
   ],
   "source": [
    "boston.feature_names"
   ]
  },
  {
   "cell_type": "code",
   "execution_count": 6,
   "metadata": {},
   "outputs": [
    {
     "data": {
      "text/plain": [
       "array([24. , 21.6, 34.7, 33.4, 36.2, 28.7, 22.9, 27.1, 16.5, 18.9, 15. ,\n",
       "       18.9, 21.7, 20.4, 18.2, 19.9, 23.1, 17.5, 20.2, 18.2, 13.6, 19.6,\n",
       "       15.2, 14.5, 15.6, 13.9, 16.6, 14.8, 18.4, 21. , 12.7, 14.5, 13.2,\n",
       "       13.1, 13.5, 18.9, 20. , 21. , 24.7, 30.8, 34.9, 26.6, 25.3, 24.7,\n",
       "       21.2, 19.3, 20. , 16.6, 14.4, 19.4, 19.7, 20.5, 25. , 23.4, 18.9,\n",
       "       35.4, 24.7, 31.6, 23.3, 19.6, 18.7, 16. , 22.2, 25. , 33. , 23.5,\n",
       "       19.4, 22. , 17.4, 20.9, 24.2, 21.7, 22.8, 23.4, 24.1, 21.4, 20. ,\n",
       "       20.8, 21.2, 20.3, 28. , 23.9, 24.8, 22.9, 23.9, 26.6, 22.5, 22.2,\n",
       "       23.6, 28.7, 22.6, 22. , 22.9, 25. , 20.6, 28.4, 21.4, 38.7, 43.8,\n",
       "       33.2, 27.5, 26.5, 18.6, 19.3, 20.1, 19.5, 19.5, 20.4, 19.8, 19.4,\n",
       "       21.7, 22.8, 18.8, 18.7, 18.5, 18.3, 21.2, 19.2, 20.4, 19.3, 22. ,\n",
       "       20.3, 20.5, 17.3, 18.8, 21.4, 15.7, 16.2, 18. , 14.3, 19.2, 19.6,\n",
       "       23. , 18.4, 15.6, 18.1, 17.4, 17.1, 13.3, 17.8, 14. , 14.4, 13.4,\n",
       "       15.6, 11.8, 13.8, 15.6, 14.6, 17.8, 15.4, 21.5, 19.6, 15.3, 19.4,\n",
       "       17. , 15.6, 13.1, 41.3, 24.3, 23.3, 27. , 50. , 50. , 50. , 22.7,\n",
       "       25. , 50. , 23.8, 23.8, 22.3, 17.4, 19.1, 23.1, 23.6, 22.6, 29.4,\n",
       "       23.2, 24.6, 29.9, 37.2, 39.8, 36.2, 37.9, 32.5, 26.4, 29.6, 50. ,\n",
       "       32. , 29.8, 34.9, 37. , 30.5, 36.4, 31.1, 29.1, 50. , 33.3, 30.3,\n",
       "       34.6, 34.9, 32.9, 24.1, 42.3, 48.5, 50. , 22.6, 24.4, 22.5, 24.4,\n",
       "       20. , 21.7, 19.3, 22.4, 28.1, 23.7, 25. , 23.3, 28.7, 21.5, 23. ,\n",
       "       26.7, 21.7, 27.5, 30.1, 44.8, 50. , 37.6, 31.6, 46.7, 31.5, 24.3,\n",
       "       31.7, 41.7, 48.3, 29. , 24. , 25.1, 31.5, 23.7, 23.3, 22. , 20.1,\n",
       "       22.2, 23.7, 17.6, 18.5, 24.3, 20.5, 24.5, 26.2, 24.4, 24.8, 29.6,\n",
       "       42.8, 21.9, 20.9, 44. , 50. , 36. , 30.1, 33.8, 43.1, 48.8, 31. ,\n",
       "       36.5, 22.8, 30.7, 50. , 43.5, 20.7, 21.1, 25.2, 24.4, 35.2, 32.4,\n",
       "       32. , 33.2, 33.1, 29.1, 35.1, 45.4, 35.4, 46. , 50. , 32.2, 22. ,\n",
       "       20.1, 23.2, 22.3, 24.8, 28.5, 37.3, 27.9, 23.9, 21.7, 28.6, 27.1,\n",
       "       20.3, 22.5, 29. , 24.8, 22. , 26.4, 33.1, 36.1, 28.4, 33.4, 28.2,\n",
       "       22.8, 20.3, 16.1, 22.1, 19.4, 21.6, 23.8, 16.2, 17.8, 19.8, 23.1,\n",
       "       21. , 23.8, 23.1, 20.4, 18.5, 25. , 24.6, 23. , 22.2, 19.3, 22.6,\n",
       "       19.8, 17.1, 19.4, 22.2, 20.7, 21.1, 19.5, 18.5, 20.6, 19. , 18.7,\n",
       "       32.7, 16.5, 23.9, 31.2, 17.5, 17.2, 23.1, 24.5, 26.6, 22.9, 24.1,\n",
       "       18.6, 30.1, 18.2, 20.6, 17.8, 21.7, 22.7, 22.6, 25. , 19.9, 20.8,\n",
       "       16.8, 21.9, 27.5, 21.9, 23.1, 50. , 50. , 50. , 50. , 50. , 13.8,\n",
       "       13.8, 15. , 13.9, 13.3, 13.1, 10.2, 10.4, 10.9, 11.3, 12.3,  8.8,\n",
       "        7.2, 10.5,  7.4, 10.2, 11.5, 15.1, 23.2,  9.7, 13.8, 12.7, 13.1,\n",
       "       12.5,  8.5,  5. ,  6.3,  5.6,  7.2, 12.1,  8.3,  8.5,  5. , 11.9,\n",
       "       27.9, 17.2, 27.5, 15. , 17.2, 17.9, 16.3,  7. ,  7.2,  7.5, 10.4,\n",
       "        8.8,  8.4, 16.7, 14.2, 20.8, 13.4, 11.7,  8.3, 10.2, 10.9, 11. ,\n",
       "        9.5, 14.5, 14.1, 16.1, 14.3, 11.7, 13.4,  9.6,  8.7,  8.4, 12.8,\n",
       "       10.5, 17.1, 18.4, 15.4, 10.8, 11.8, 14.9, 12.6, 14.1, 13. , 13.4,\n",
       "       15.2, 16.1, 17.8, 14.9, 14.1, 12.7, 13.5, 14.9, 20. , 16.4, 17.7,\n",
       "       19.5, 20.2, 21.4, 19.9, 19. , 19.1, 19.1, 20.1, 19.9, 19.6, 23.2,\n",
       "       29.8, 13.8, 13.3, 16.7, 12. , 14.6, 21.4, 23. , 23.7, 25. , 21.8,\n",
       "       20.6, 21.2, 19.1, 20.6, 15.2,  7. ,  8.1, 13.6, 20.1, 21.8, 24.5,\n",
       "       23.1, 19.7, 18.3, 21.2, 17.5, 16.8, 22.4, 20.6, 23.9, 22. , 11.9])"
      ]
     },
     "execution_count": 6,
     "metadata": {},
     "output_type": "execute_result"
    }
   ],
   "source": [
    "boston.target"
   ]
  },
  {
   "cell_type": "code",
   "execution_count": 7,
   "metadata": {},
   "outputs": [
    {
     "name": "stdout",
     "output_type": "stream",
     "text": [
      ".. _boston_dataset:\n",
      "\n",
      "Boston house prices dataset\n",
      "---------------------------\n",
      "\n",
      "**Data Set Characteristics:**  \n",
      "\n",
      "    :Number of Instances: 506 \n",
      "\n",
      "    :Number of Attributes: 13 numeric/categorical predictive. Median Value (attribute 14) is usually the target.\n",
      "\n",
      "    :Attribute Information (in order):\n",
      "        - CRIM     per capita crime rate by town\n",
      "        - ZN       proportion of residential land zoned for lots over 25,000 sq.ft.\n",
      "        - INDUS    proportion of non-retail business acres per town\n",
      "        - CHAS     Charles River dummy variable (= 1 if tract bounds river; 0 otherwise)\n",
      "        - NOX      nitric oxides concentration (parts per 10 million)\n",
      "        - RM       average number of rooms per dwelling\n",
      "        - AGE      proportion of owner-occupied units built prior to 1940\n",
      "        - DIS      weighted distances to five Boston employment centres\n",
      "        - RAD      index of accessibility to radial highways\n",
      "        - TAX      full-value property-tax rate per $10,000\n",
      "        - PTRATIO  pupil-teacher ratio by town\n",
      "        - B        1000(Bk - 0.63)^2 where Bk is the proportion of blacks by town\n",
      "        - LSTAT    % lower status of the population\n",
      "        - MEDV     Median value of owner-occupied homes in $1000's\n",
      "\n",
      "    :Missing Attribute Values: None\n",
      "\n",
      "    :Creator: Harrison, D. and Rubinfeld, D.L.\n",
      "\n",
      "This is a copy of UCI ML housing dataset.\n",
      "https://archive.ics.uci.edu/ml/machine-learning-databases/housing/\n",
      "\n",
      "\n",
      "This dataset was taken from the StatLib library which is maintained at Carnegie Mellon University.\n",
      "\n",
      "The Boston house-price data of Harrison, D. and Rubinfeld, D.L. 'Hedonic\n",
      "prices and the demand for clean air', J. Environ. Economics & Management,\n",
      "vol.5, 81-102, 1978.   Used in Belsley, Kuh & Welsch, 'Regression diagnostics\n",
      "...', Wiley, 1980.   N.B. Various transformations are used in the table on\n",
      "pages 244-261 of the latter.\n",
      "\n",
      "The Boston house-price data has been used in many machine learning papers that address regression\n",
      "problems.   \n",
      "     \n",
      ".. topic:: References\n",
      "\n",
      "   - Belsley, Kuh & Welsch, 'Regression diagnostics: Identifying Influential Data and Sources of Collinearity', Wiley, 1980. 244-261.\n",
      "   - Quinlan,R. (1993). Combining Instance-Based and Model-Based Learning. In Proceedings on the Tenth International Conference of Machine Learning, 236-243, University of Massachusetts, Amherst. Morgan Kaufmann.\n",
      "\n"
     ]
    }
   ],
   "source": [
    "print(boston.DESCR)"
   ]
  },
  {
   "cell_type": "code",
   "execution_count": 8,
   "metadata": {},
   "outputs": [],
   "source": [
    "data = boston.data    \n",
    "bs_df = pd.DataFrame(data)\n",
    "X = bs_df\n",
    "Y = boston.target"
   ]
  },
  {
   "cell_type": "code",
   "execution_count": 9,
   "metadata": {},
   "outputs": [
    {
     "data": {
      "text/html": [
       "<div>\n",
       "<style scoped>\n",
       "    .dataframe tbody tr th:only-of-type {\n",
       "        vertical-align: middle;\n",
       "    }\n",
       "\n",
       "    .dataframe tbody tr th {\n",
       "        vertical-align: top;\n",
       "    }\n",
       "\n",
       "    .dataframe thead th {\n",
       "        text-align: right;\n",
       "    }\n",
       "</style>\n",
       "<table border=\"1\" class=\"dataframe\">\n",
       "  <thead>\n",
       "    <tr style=\"text-align: right;\">\n",
       "      <th></th>\n",
       "      <th>0</th>\n",
       "      <th>1</th>\n",
       "      <th>2</th>\n",
       "      <th>3</th>\n",
       "      <th>4</th>\n",
       "      <th>5</th>\n",
       "      <th>6</th>\n",
       "      <th>7</th>\n",
       "      <th>8</th>\n",
       "      <th>9</th>\n",
       "      <th>10</th>\n",
       "      <th>11</th>\n",
       "      <th>12</th>\n",
       "    </tr>\n",
       "  </thead>\n",
       "  <tbody>\n",
       "    <tr>\n",
       "      <th>0</th>\n",
       "      <td>0.00632</td>\n",
       "      <td>18.0</td>\n",
       "      <td>2.31</td>\n",
       "      <td>0.0</td>\n",
       "      <td>0.538</td>\n",
       "      <td>6.575</td>\n",
       "      <td>65.2</td>\n",
       "      <td>4.0900</td>\n",
       "      <td>1.0</td>\n",
       "      <td>296.0</td>\n",
       "      <td>15.3</td>\n",
       "      <td>396.90</td>\n",
       "      <td>4.98</td>\n",
       "    </tr>\n",
       "    <tr>\n",
       "      <th>1</th>\n",
       "      <td>0.02731</td>\n",
       "      <td>0.0</td>\n",
       "      <td>7.07</td>\n",
       "      <td>0.0</td>\n",
       "      <td>0.469</td>\n",
       "      <td>6.421</td>\n",
       "      <td>78.9</td>\n",
       "      <td>4.9671</td>\n",
       "      <td>2.0</td>\n",
       "      <td>242.0</td>\n",
       "      <td>17.8</td>\n",
       "      <td>396.90</td>\n",
       "      <td>9.14</td>\n",
       "    </tr>\n",
       "    <tr>\n",
       "      <th>2</th>\n",
       "      <td>0.02729</td>\n",
       "      <td>0.0</td>\n",
       "      <td>7.07</td>\n",
       "      <td>0.0</td>\n",
       "      <td>0.469</td>\n",
       "      <td>7.185</td>\n",
       "      <td>61.1</td>\n",
       "      <td>4.9671</td>\n",
       "      <td>2.0</td>\n",
       "      <td>242.0</td>\n",
       "      <td>17.8</td>\n",
       "      <td>392.83</td>\n",
       "      <td>4.03</td>\n",
       "    </tr>\n",
       "    <tr>\n",
       "      <th>3</th>\n",
       "      <td>0.03237</td>\n",
       "      <td>0.0</td>\n",
       "      <td>2.18</td>\n",
       "      <td>0.0</td>\n",
       "      <td>0.458</td>\n",
       "      <td>6.998</td>\n",
       "      <td>45.8</td>\n",
       "      <td>6.0622</td>\n",
       "      <td>3.0</td>\n",
       "      <td>222.0</td>\n",
       "      <td>18.7</td>\n",
       "      <td>394.63</td>\n",
       "      <td>2.94</td>\n",
       "    </tr>\n",
       "    <tr>\n",
       "      <th>4</th>\n",
       "      <td>0.06905</td>\n",
       "      <td>0.0</td>\n",
       "      <td>2.18</td>\n",
       "      <td>0.0</td>\n",
       "      <td>0.458</td>\n",
       "      <td>7.147</td>\n",
       "      <td>54.2</td>\n",
       "      <td>6.0622</td>\n",
       "      <td>3.0</td>\n",
       "      <td>222.0</td>\n",
       "      <td>18.7</td>\n",
       "      <td>396.90</td>\n",
       "      <td>5.33</td>\n",
       "    </tr>\n",
       "  </tbody>\n",
       "</table>\n",
       "</div>"
      ],
      "text/plain": [
       "        0     1     2    3      4      5     6       7    8      9     10  \\\n",
       "0  0.00632  18.0  2.31  0.0  0.538  6.575  65.2  4.0900  1.0  296.0  15.3   \n",
       "1  0.02731   0.0  7.07  0.0  0.469  6.421  78.9  4.9671  2.0  242.0  17.8   \n",
       "2  0.02729   0.0  7.07  0.0  0.469  7.185  61.1  4.9671  2.0  242.0  17.8   \n",
       "3  0.03237   0.0  2.18  0.0  0.458  6.998  45.8  6.0622  3.0  222.0  18.7   \n",
       "4  0.06905   0.0  2.18  0.0  0.458  7.147  54.2  6.0622  3.0  222.0  18.7   \n",
       "\n",
       "       11    12  \n",
       "0  396.90  4.98  \n",
       "1  396.90  9.14  \n",
       "2  392.83  4.03  \n",
       "3  394.63  2.94  \n",
       "4  396.90  5.33  "
      ]
     },
     "execution_count": 9,
     "metadata": {},
     "output_type": "execute_result"
    }
   ],
   "source": [
    "X.head()"
   ]
  },
  {
   "cell_type": "code",
   "execution_count": 10,
   "metadata": {},
   "outputs": [],
   "source": [
    "# standardizing the data\n",
    "from sklearn.preprocessing import StandardScaler\n",
    "scaler = StandardScaler()\n",
    "X_data = scaler.fit_transform(X)"
   ]
  },
  {
   "cell_type": "markdown",
   "metadata": {},
   "source": [
    "## SGD for Linear Regression using sklearn"
   ]
  },
  {
   "cell_type": "code",
   "execution_count": null,
   "metadata": {},
   "outputs": [],
   "source": [
    "# https://machinelearningmastery.com/implement-linear-regression-stochastic-gradient-descent-scratch-python/\n",
    "# https://codebasicshub.com/tutorial/machine-learning/logistic-regression-multiclass-classification"
   ]
  },
  {
   "cell_type": "code",
   "execution_count": 11,
   "metadata": {},
   "outputs": [],
   "source": [
    "# http://scikitlearn.org/stable/modules/generated/sklearn.linear_model.SGDRegressor.html\n",
    "\n",
    "from sklearn.linear_model import SGDRegressor \n",
    "\n",
    "clf = SGDRegressor()\n",
    "clf.fit(X_data,Y)\n",
    "\n",
    "Y_pred = clf.predict(X_data)"
   ]
  },
  {
   "cell_type": "code",
   "execution_count": 12,
   "metadata": {},
   "outputs": [
    {
     "name": "stdout",
     "output_type": "stream",
     "text": [
      "Weights for sklearn SGD: [[-0.63805546]\n",
      " [ 0.44077066]\n",
      " [-0.36943486]\n",
      " [ 0.81936679]\n",
      " [-0.94265706]\n",
      " [ 3.16992285]\n",
      " [ 0.016051  ]\n",
      " [-2.00287409]\n",
      " [ 0.87760778]\n",
      " [-0.22887733]\n",
      " [-1.85265255]\n",
      " [ 0.84090416]\n",
      " [-3.38960059]]\n",
      "Intercept for sklearn SGD: [22.37340034]\n"
     ]
    }
   ],
   "source": [
    "# Optimal Weights and Intercept values of sklearn SGD\n",
    "\n",
    "from numpy import c_\n",
    "\n",
    "print('Weights for sklearn SGD:', c_[clf.coef_])\n",
    "\n",
    "print('Intercept for sklearn SGD:',clf.intercept_)"
   ]
  },
  {
   "cell_type": "code",
   "execution_count": 13,
   "metadata": {},
   "outputs": [
    {
     "data": {
      "image/png": "[encoded data removed]",
      "text/plain": [
       "<Figure size 432x288 with 1 Axes>"
      ]
     },
     "metadata": {
      "needs_background": "light"
     },
     "output_type": "display_data"
    }
   ],
   "source": [
    "# Graph of Predicted price and actual price\n",
    "\n",
    "import matplotlib.pyplot as plt\n",
    "\n",
    "plt.scatter(Y, Y_pred)\n",
    "plt.xlabel(\" actual prices\")\n",
    "plt.ylabel(\"Predicted prices\")\n",
    "plt.title(\"actual prices vs Predicted prices\")\n",
    "plt.show()"
   ]
  },
  {
   "cell_type": "code",
   "execution_count": 14,
   "metadata": {},
   "outputs": [
    {
     "data": {
      "text/plain": [
       "Text(0.5, 1.0, 'Error plot of sklearn SGD')"
      ]
     },
     "execution_count": 14,
     "metadata": {},
     "output_type": "execute_result"
    },
    {
     "data": {
      "image/png": "[encoded data removed]",
      "text/plain": [
       "<Figure size 432x288 with 1 Axes>"
      ]
     },
     "metadata": {},
     "output_type": "display_data"
    }
   ],
   "source": [
    "# Error Plot\n",
    "\n",
    "import seaborn as sns\n",
    "sns.set_style('whitegrid')\n",
    "sns.kdeplot((Y_pred-Y))\n",
    "plt.title(\"Error plot of sklearn SGD\")"
   ]
  },
  {
   "cell_type": "code",
   "execution_count": 15,
   "metadata": {},
   "outputs": [
    {
     "name": "stdout",
     "output_type": "stream",
     "text": [
      "MSE of Sklearn SGD is:  23.147801289396817\n"
     ]
    }
   ],
   "source": [
    "# Computing MSE(Mean_square_error )\n",
    "\n",
    "MSE_sklearnSGD = mean_squared_error(Y, Y_pred)\n",
    "print(\"MSE of Sklearn SGD is: \",MSE_sklearnSGD)"
   ]
  },
  {
   "cell_type": "markdown",
   "metadata": {},
   "source": [
    "# Implementation of SGDRegressor for Linear Regression "
   ]
  },
  {
   "cell_type": "code",
   "execution_count": 23,
   "metadata": {},
   "outputs": [],
   "source": [
    "# Finding Optimal weights\n",
    "\n",
    "def SGD_linreg(X,y,weight,learning_rate=0.01,iterations=10):\n",
    "    \n",
    "    L = len(y) #  length of the data set\n",
    "    \n",
    "    for i in range(iterations): # iteration \n",
    "        sum_error = 0\n",
    "        \n",
    "        for i in range(L):\n",
    "            batch_size = np.random.randint(0,L)  # random batch size for every iteration i.e k batch_size \n",
    "            X_b = X[batch_size,:].reshape(1,X.shape[1])\n",
    "            y_b = y[batch_size].reshape(1,1)\n",
    "            pred = np.dot(X_b,weight)\n",
    "            \n",
    "            #-------- error ---------\n",
    "            error = pred - y_b\n",
    "            sum_error += error**2\n",
    "            #--------- error ---------\n",
    "            \n",
    "            weight = weight -(2/L)*learning_rate*( X_b.T.dot((pred - y_b)))\n",
    "        \n",
    "        print('epoch={}, lr_rate={}, error={}'.format(i, learning_rate, sum_error/L))\n",
    "                \n",
    "    return weight\n",
    "\n",
    "def predict_linreg(X_a,weight):\n",
    "    y_pred = X_a.dot(weight)\n",
    "    y_pred = y_pred.ravel()\n",
    "    return y_pred   "
   ]
  },
  {
   "cell_type": "code",
   "execution_count": 24,
   "metadata": {},
   "outputs": [
    {
     "name": "stdout",
     "output_type": "stream",
     "text": [
      "epoch=505, lr_rate=0.2, error=[[418.77881624]]\n",
      "epoch=505, lr_rate=0.2, error=[[197.54523126]]\n",
      "epoch=505, lr_rate=0.2, error=[[117.17276031]]\n",
      "epoch=505, lr_rate=0.2, error=[[60.42060112]]\n",
      "epoch=505, lr_rate=0.2, error=[[39.37910916]]\n",
      "epoch=505, lr_rate=0.2, error=[[27.91519808]]\n",
      "epoch=505, lr_rate=0.2, error=[[26.39269704]]\n",
      "epoch=505, lr_rate=0.2, error=[[21.8518838]]\n",
      "epoch=505, lr_rate=0.2, error=[[27.80573764]]\n",
      "epoch=505, lr_rate=0.2, error=[[28.64260664]]\n",
      "epoch=505, lr_rate=0.2, error=[[28.16330435]]\n",
      "epoch=505, lr_rate=0.2, error=[[25.4786955]]\n",
      "epoch=505, lr_rate=0.2, error=[[24.52458208]]\n",
      "epoch=505, lr_rate=0.2, error=[[25.28780692]]\n",
      "epoch=505, lr_rate=0.2, error=[[23.4399407]]\n",
      "epoch=505, lr_rate=0.2, error=[[23.43791731]]\n",
      "epoch=505, lr_rate=0.2, error=[[24.02883284]]\n",
      "epoch=505, lr_rate=0.2, error=[[21.56813165]]\n",
      "epoch=505, lr_rate=0.2, error=[[23.34310506]]\n",
      "epoch=505, lr_rate=0.2, error=[[22.27370675]]\n",
      "epoch=505, lr_rate=0.2, error=[[18.40672047]]\n",
      "epoch=505, lr_rate=0.2, error=[[24.63157258]]\n",
      "epoch=505, lr_rate=0.2, error=[[21.56945043]]\n",
      "epoch=505, lr_rate=0.2, error=[[25.24162788]]\n",
      "epoch=505, lr_rate=0.2, error=[[23.34730834]]\n",
      "epoch=505, lr_rate=0.2, error=[[20.23769629]]\n",
      "epoch=505, lr_rate=0.2, error=[[20.94969098]]\n",
      "epoch=505, lr_rate=0.2, error=[[18.02718294]]\n",
      "epoch=505, lr_rate=0.2, error=[[20.741179]]\n",
      "epoch=505, lr_rate=0.2, error=[[24.31555265]]\n",
      "epoch=505, lr_rate=0.2, error=[[22.34139448]]\n",
      "epoch=505, lr_rate=0.2, error=[[19.58227055]]\n",
      "epoch=505, lr_rate=0.2, error=[[20.39292475]]\n",
      "epoch=505, lr_rate=0.2, error=[[22.16457613]]\n",
      "epoch=505, lr_rate=0.2, error=[[17.71407287]]\n",
      "epoch=505, lr_rate=0.2, error=[[20.7661114]]\n",
      "epoch=505, lr_rate=0.2, error=[[22.21418838]]\n",
      "epoch=505, lr_rate=0.2, error=[[23.30159313]]\n",
      "epoch=505, lr_rate=0.2, error=[[20.39304878]]\n",
      "epoch=505, lr_rate=0.2, error=[[17.81532109]]\n",
      "epoch=505, lr_rate=0.2, error=[[23.51787491]]\n",
      "epoch=505, lr_rate=0.2, error=[[22.55070539]]\n",
      "epoch=505, lr_rate=0.2, error=[[21.96442709]]\n",
      "epoch=505, lr_rate=0.2, error=[[25.17499828]]\n",
      "epoch=505, lr_rate=0.2, error=[[28.30931837]]\n",
      "epoch=505, lr_rate=0.2, error=[[23.91677296]]\n",
      "epoch=505, lr_rate=0.2, error=[[22.04616666]]\n",
      "epoch=505, lr_rate=0.2, error=[[23.68536525]]\n",
      "epoch=505, lr_rate=0.2, error=[[16.66979803]]\n",
      "epoch=505, lr_rate=0.2, error=[[22.62507116]]\n",
      "epoch=505, lr_rate=0.2, error=[[27.4381154]]\n",
      "epoch=505, lr_rate=0.2, error=[[22.4976803]]\n",
      "epoch=505, lr_rate=0.2, error=[[20.57386142]]\n",
      "epoch=505, lr_rate=0.2, error=[[17.02060383]]\n",
      "epoch=505, lr_rate=0.2, error=[[21.56302498]]\n",
      "epoch=505, lr_rate=0.2, error=[[18.62220404]]\n",
      "epoch=505, lr_rate=0.2, error=[[23.49589275]]\n",
      "epoch=505, lr_rate=0.2, error=[[18.18895885]]\n",
      "epoch=505, lr_rate=0.2, error=[[23.42188037]]\n",
      "epoch=505, lr_rate=0.2, error=[[22.45652327]]\n",
      "epoch=505, lr_rate=0.2, error=[[21.6454935]]\n",
      "epoch=505, lr_rate=0.2, error=[[19.35786793]]\n",
      "epoch=505, lr_rate=0.2, error=[[19.1895708]]\n",
      "epoch=505, lr_rate=0.2, error=[[23.38522761]]\n",
      "epoch=505, lr_rate=0.2, error=[[25.92216954]]\n",
      "epoch=505, lr_rate=0.2, error=[[21.81790293]]\n",
      "epoch=505, lr_rate=0.2, error=[[19.67420288]]\n",
      "epoch=505, lr_rate=0.2, error=[[19.73173375]]\n",
      "epoch=505, lr_rate=0.2, error=[[27.87976131]]\n",
      "epoch=505, lr_rate=0.2, error=[[24.10166972]]\n",
      "epoch=505, lr_rate=0.2, error=[[20.08995679]]\n",
      "epoch=505, lr_rate=0.2, error=[[21.43780506]]\n",
      "epoch=505, lr_rate=0.2, error=[[23.80495704]]\n",
      "epoch=505, lr_rate=0.2, error=[[20.80619434]]\n",
      "epoch=505, lr_rate=0.2, error=[[23.42962118]]\n",
      "epoch=505, lr_rate=0.2, error=[[23.33086575]]\n",
      "epoch=505, lr_rate=0.2, error=[[23.03351796]]\n",
      "epoch=505, lr_rate=0.2, error=[[23.56579575]]\n",
      "epoch=505, lr_rate=0.2, error=[[16.50283028]]\n",
      "epoch=505, lr_rate=0.2, error=[[23.58742189]]\n",
      "epoch=505, lr_rate=0.2, error=[[27.05120537]]\n",
      "epoch=505, lr_rate=0.2, error=[[20.65714438]]\n",
      "epoch=505, lr_rate=0.2, error=[[24.20510836]]\n",
      "epoch=505, lr_rate=0.2, error=[[16.83929307]]\n",
      "epoch=505, lr_rate=0.2, error=[[25.50961432]]\n",
      "epoch=505, lr_rate=0.2, error=[[21.64204317]]\n",
      "epoch=505, lr_rate=0.2, error=[[21.15348115]]\n",
      "epoch=505, lr_rate=0.2, error=[[23.66579115]]\n",
      "epoch=505, lr_rate=0.2, error=[[21.50691454]]\n",
      "epoch=505, lr_rate=0.2, error=[[21.65047923]]\n",
      "epoch=505, lr_rate=0.2, error=[[19.98628126]]\n",
      "epoch=505, lr_rate=0.2, error=[[16.05351668]]\n",
      "epoch=505, lr_rate=0.2, error=[[25.94918173]]\n",
      "epoch=505, lr_rate=0.2, error=[[24.54767136]]\n",
      "epoch=505, lr_rate=0.2, error=[[23.14613699]]\n",
      "epoch=505, lr_rate=0.2, error=[[24.82957857]]\n",
      "epoch=505, lr_rate=0.2, error=[[20.85461265]]\n",
      "epoch=505, lr_rate=0.2, error=[[22.84992584]]\n",
      "epoch=505, lr_rate=0.2, error=[[19.07650034]]\n",
      "epoch=505, lr_rate=0.2, error=[[20.12975691]]\n"
     ]
    }
   ],
   "source": [
    "\n",
    "learning_rate =0.2 \n",
    "n_iter = 100 \n",
    "\n",
    "weight = np.random.randn(14,1) \n",
    "\n",
    "X_a = np.c_[np.ones((len(X_data),1)),X_data] \n",
    "\n",
    "optimal_weight = SGD_linreg(X_a,Y,weight,learning_rate,n_iter) "
   ]
  },
  {
   "cell_type": "code",
   "execution_count": 25,
   "metadata": {},
   "outputs": [
    {
     "name": "stdout",
     "output_type": "stream",
     "text": [
      "Optimal Weights of implemented SGD: [[-0.90683692]\n",
      " [ 1.0660151 ]\n",
      " [-0.04084335]\n",
      " [ 0.51702249]\n",
      " [-2.08288434]\n",
      " [ 2.86647946]\n",
      " [ 0.00971415]\n",
      " [-2.97667618]\n",
      " [ 2.55310236]\n",
      " [-1.92373307]\n",
      " [-2.03236471]\n",
      " [ 0.94851858]\n",
      " [-3.61733317]]\n",
      "Intercept of implemented SGD:22.51493653332199\n"
     ]
    }
   ],
   "source": [
    "# Optimal Weights and Intercept of implemented SGD\n",
    "\n",
    "print('Optimal Weights of implemented SGD:', optimal_weight[1:])\n",
    "\n",
    "\n",
    "print('Intercept of implemented SGD:{}'.format(optimal_weight[0][0]))"
   ]
  },
  {
   "cell_type": "code",
   "execution_count": 27,
   "metadata": {},
   "outputs": [],
   "source": [
    "y_predicted = predict_linreg(X_a,optimal_weight)"
   ]
  },
  {
   "cell_type": "code",
   "execution_count": 28,
   "metadata": {},
   "outputs": [
    {
     "data": {
      "image/png": "[encoded data removed]",
      "text/plain": [
       "<Figure size 432x288 with 1 Axes>"
      ]
     },
     "metadata": {},
     "output_type": "display_data"
    }
   ],
   "source": [
    "# Graph of Predicted price and actual price, implemented SGD\n",
    "\n",
    "plt.scatter(Y, y_predicted)\n",
    "plt.xlabel(\" actual prices\")\n",
    "plt.ylabel(\"Predicted prices\")\n",
    "plt.title(\"actual prices vs Predicted prices\")\n",
    "plt.show()"
   ]
  },
  {
   "cell_type": "code",
   "execution_count": 30,
   "metadata": {},
   "outputs": [
    {
     "data": {
      "text/plain": [
       "Text(0.5, 1.0, 'Error plot for implemented SGD')"
      ]
     },
     "execution_count": 30,
     "metadata": {},
     "output_type": "execute_result"
    },
    {
     "data": {
      "image/png": "[encoded data removed]",
      "text/plain": [
       "<Figure size 432x288 with 1 Axes>"
      ]
     },
     "metadata": {},
     "output_type": "display_data"
    }
   ],
   "source": [
    "# plot error\n",
    "\n",
    "sns.set_style('whitegrid')\n",
    "sns.kdeplot((y_predicted-Y))\n",
    "plt.title(\"Error plot for implemented SGD\")"
   ]
  },
  {
   "cell_type": "code",
   "execution_count": 31,
   "metadata": {},
   "outputs": [
    {
     "name": "stdout",
     "output_type": "stream",
     "text": [
      "Mean Squared Error using the predicted Y and optimal weights : 22.029436471453277\n"
     ]
    }
   ],
   "source": [
    "# Computing MSE (Mean_square_error) of implemented SGD\n",
    "\n",
    "print(\"Mean Squared Error using the predicted Y and optimal weights :\",np.mean((Y-y_predicted)**2))"
   ]
  },
  {
   "cell_type": "markdown",
   "metadata": {},
   "source": [
    "# Comparing Sklearn SGD and Implemented SGD"
   ]
  },
  {
   "cell_type": "code",
   "execution_count": 33,
   "metadata": {},
   "outputs": [
    {
     "data": {
      "text/plain": [
       "Text(0.5, 1.0, 'Error plot for Sklearn SGD and Implemented SGD')"
      ]
     },
     "execution_count": 33,
     "metadata": {},
     "output_type": "execute_result"
    },
    {
     "data": {
      "image/png": "[encoded data removed]",
      "text/plain": [
       "<Figure size 432x288 with 1 Axes>"
      ]
     },
     "metadata": {},
     "output_type": "display_data"
    }
   ],
   "source": [
    "sklearn_pred = Y_pred \n",
    "impl_pred = y_predicted\n",
    "sns.set_style('whitegrid')\n",
    "sns.kdeplot((sklearn_pred-impl_pred))\n",
    "plt.title(\"Error plot for Sklearn SGD and Implemented SGD\")"
   ]
  },
  {
   "cell_type": "markdown",
   "metadata": {},
   "source": [
    "# Conclusion"
   ]
  },
  {
   "cell_type": "code",
   "execution_count": 34,
   "metadata": {},
   "outputs": [
    {
     "name": "stdout",
     "output_type": "stream",
     "text": [
      "Sklearn SGD optimal Weight [[-0.63805546]\n",
      " [ 0.44077066]\n",
      " [-0.36943486]\n",
      " [ 0.81936679]\n",
      " [-0.94265706]\n",
      " [ 3.16992285]\n",
      " [ 0.016051  ]\n",
      " [-2.00287409]\n",
      " [ 0.87760778]\n",
      " [-0.22887733]\n",
      " [-1.85265255]\n",
      " [ 0.84090416]\n",
      " [-3.38960059]]\n",
      "\n",
      " Self implemented SGD optimal Weight [[-0.90683692]\n",
      " [ 1.0660151 ]\n",
      " [-0.04084335]\n",
      " [ 0.51702249]\n",
      " [-2.08288434]\n",
      " [ 2.86647946]\n",
      " [ 0.00971415]\n",
      " [-2.97667618]\n",
      " [ 2.55310236]\n",
      " [-1.92373307]\n",
      " [-2.03236471]\n",
      " [ 0.94851858]\n",
      " [-3.61733317]]\n"
     ]
    }
   ],
   "source": [
    "# Getting optimal weight i.e (coef) for Self implemented SGD and sklearn SGD\n",
    "\n",
    "print(\"Sklearn SGD optimal Weight\", c_[clf.coef_])\n",
    "\n",
    "print(\"\\n Self implemented SGD optimal Weight\", optimal_weight[1:])\n"
   ]
  },
  {
   "cell_type": "code",
   "execution_count": 36,
   "metadata": {},
   "outputs": [
    {
     "name": "stdout",
     "output_type": "stream",
     "text": [
      "+----------------------------+--------------------------------+\n",
      "| Sklearn SGD optimal Weight | implemented SGD optimal Weight |\n",
      "+----------------------------+--------------------------------+\n",
      "|        -0.63805546         |          -0.90683692           |\n",
      "|         0.44077066         |           1.0660151            |\n",
      "|        -0.36943486         |          -0.04084335           |\n",
      "|         0.81936679         |           0.51702249           |\n",
      "|        -0.94265706         |          -2.08288434           |\n",
      "|         3.16992285         |           2.86647946           |\n",
      "|          0.016051          |           0.00971415           |\n",
      "|        -2.00287409         |          -2.97667618           |\n",
      "|         0.87760778         |           2.55310236           |\n",
      "|        -0.22887733         |          -1.92373307           |\n",
      "|        -1.85265255         |          -2.03236471           |\n",
      "|         0.84090416         |           0.94851858           |\n",
      "|        -3.38960059         |          -3.61733317           |\n",
      "+----------------------------+--------------------------------+\n"
     ]
    }
   ],
   "source": [
    "from prettytable import PrettyTable\n",
    "x = PrettyTable()\n",
    "x.field_names = [\"Sklearn SGD optimal Weight\", \"implemented SGD optimal Weight\"]\n",
    "x.add_row([\"-0.63805546\", \"-0.90683692\"])\n",
    "x.add_row([\"0.44077066\", \"1.0660151\" ])\n",
    "x.add_row([\"-0.36943486\", \"-0.04084335\"])\n",
    "x.add_row([\"0.81936679\", \"0.51702249\"])\n",
    "x.add_row([\"-0.94265706\", \"-2.08288434\"])\n",
    "x.add_row([\"3.16992285\", \"2.86647946\"])\n",
    "x.add_row([\"0.016051\", \"0.00971415\"])\n",
    "x.add_row([\"-2.00287409\",  \"-2.97667618\"])\n",
    "x.add_row([\"0.87760778\", \"2.55310236\"])\n",
    "x.add_row([\"-0.22887733\", \"-1.92373307\"])\n",
    "x.add_row([\"-1.85265255\", \"-2.03236471\"])\n",
    "x.add_row([\"0.84090416\", \"0.94851858\"])\n",
    "x.add_row([\"-3.38960059\", \"-3.61733317\"])\n",
    "print(x)"
   ]
  },
  {
   "cell_type": "code",
   "execution_count": 37,
   "metadata": {},
   "outputs": [
    {
     "name": "stdout",
     "output_type": "stream",
     "text": [
      " optimal intercept of Sklearn SGD:  [22.37340034]\n",
      " optimal intercept implemented SGD:  22.51493653332199\n"
     ]
    }
   ],
   "source": [
    "# optimal Intercept of sklearn SGD and implemented SGD \n",
    "\n",
    "print(\" optimal intercept of Sklearn SGD: \",clf.intercept_)\n",
    "\n",
    "print(\" optimal intercept implemented SGD: \",optimal_weight[0][0])"
   ]
  },
  {
   "cell_type": "code",
   "execution_count": 38,
   "metadata": {},
   "outputs": [
    {
     "name": "stdout",
     "output_type": "stream",
     "text": [
      "+--------------------------+---------------------------+\n",
      "| intercept of Sklearn SGD | intercept implemented SGD |\n",
      "+--------------------------+---------------------------+\n",
      "|       22.37340034        |     22.51493653332199     |\n",
      "+--------------------------+---------------------------+\n"
     ]
    }
   ],
   "source": [
    "from prettytable import PrettyTable\n",
    "\n",
    "x = PrettyTable()\n",
    "\n",
    "x.field_names = [\"MSE of Sklearn SGD\", \"intercept implemented SGD\"]\n",
    "\n",
    "x.add_row([\"22.37340034\", \"22.51493653332199\"])\n",
    "\n",
    "print(x)"
   ]
  },
  {
   "cell_type": "code",
   "execution_count": 39,
   "metadata": {},
   "outputs": [
    {
     "name": "stdout",
     "output_type": "stream",
     "text": [
      "+-------------+--------------------+\n",
      "|     SGD     |        MSE         |\n",
      "+-------------+--------------------+\n",
      "|   Sklearn   | 23.147801289396817 |\n",
      "| implemented | 22.029436471453277 |\n",
      "+-------------+--------------------+\n"
     ]
    }
   ],
   "source": [
    "from prettytable import PrettyTable\n",
    "\n",
    "x = PrettyTable()\n",
    "\n",
    "x.field_names = [\"SGD\",\"MSE\"]\n",
    "\n",
    "x.add_row([\"Sklearn\",23.147801289396817])\n",
    "x.add_row([\"implemented\",22.029436471453277])\n",
    "\n",
    "print(x)"
   ]
  },
  {
   "cell_type": "markdown",
   "metadata": {},
   "source": [
    "\n",
    "### 1. From Table we can observe that Intercept for both Sklearn SGD and implemented SGD is almost same value.\n",
    "### 2. From Table we can conclude that MSE is nearly same "
   ]
  },
  {
   "cell_type": "code",
   "execution_count": null,
   "metadata": {},
   "outputs": [],
   "source": []
  }
 ],
 "metadata": {
  "colab": {
   "name": "Untitled3.ipynb",
   "provenance": [],
   "version": "0.3.2"
  },
  "kernelspec": {
   "display_name": "Python 3",
   "language": "python",
   "name": "python3"
  },
  "language_info": {
   "codemirror_mode": {
    "name": "ipython",
    "version": 3
   },
   "file_extension": ".py",
   "mimetype": "text/x-python",
   "name": "python",
   "nbconvert_exporter": "python",
   "pygments_lexer": "ipython3",
   "version": "3.7.3"
  }
 },
 "nbformat": 4,
 "nbformat_minor": 1
}
